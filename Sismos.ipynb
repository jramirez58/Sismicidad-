{
 "cells": [
  {
   "cell_type": "code",
   "execution_count": 1,
   "metadata": {},
   "outputs": [],
   "source": [
    "import pandas\n",
    "import folium\n",
    "import urllib\n",
    "import csv\n",
    "\n",
    "sismos = pandas.read_csv('https://api.adderou.cl/sismo/?fecha=20100227')\n",
    "chile = folium.Map(location=[-30.0000000, -71.0000000], zoom_start = 4)\n",
    "\n",
    "\n",
    "for r in sismos[0:213].iterrows():\n",
    "      m = r[1]['Magnitud']\n",
    "      f = r[1]['Fecha']\n",
    "      if (m > 4.5):col = 'red'\n",
    "      if (m > 3.5 and m < 4.5):col = 'orange'\n",
    "      if (m < 3.5):col = 'green'\n",
    "      info = \"Mag:\" + str(m) + \" Fecha:\" + f\n",
    "      folium.Marker((r[1]['Latitud'],r[1]['Longitud']), popup = info,icon =folium.Icon( col,icon='info-sign')).add_to(chile)\n",
    "\n",
    "\n",
    "chile.save('map.html')"
   ]
  },
  {
   "cell_type": "code",
   "execution_count": 2,
   "metadata": {},
   "outputs": [
    {
     "ename": "SyntaxError",
     "evalue": "invalid syntax (<ipython-input-2-9d7b83ef44f7>, line 1)",
     "output_type": "error",
     "traceback": [
      "\u001b[1;36m  File \u001b[1;32m\"<ipython-input-2-9d7b83ef44f7>\"\u001b[1;36m, line \u001b[1;32m1\u001b[0m\n\u001b[1;33m    print = chile.save\u001b[0m\n\u001b[1;37m          ^\u001b[0m\n\u001b[1;31mSyntaxError\u001b[0m\u001b[1;31m:\u001b[0m invalid syntax\n"
     ]
    }
   ],
   "source": [
    "print = chile.save\n"
   ]
  },
  {
   "cell_type": "code",
   "execution_count": null,
   "metadata": {},
   "outputs": [],
   "source": []
  }
 ],
 "metadata": {
  "kernelspec": {
   "display_name": "Python 2",
   "language": "python",
   "name": "python2"
  },
  "language_info": {
   "codemirror_mode": {
    "name": "ipython",
    "version": 2
   },
   "file_extension": ".py",
   "mimetype": "text/x-python",
   "name": "python",
   "nbconvert_exporter": "python",
   "pygments_lexer": "ipython2",
   "version": "2.7.15"
  }
 },
 "nbformat": 4,
 "nbformat_minor": 2
}
